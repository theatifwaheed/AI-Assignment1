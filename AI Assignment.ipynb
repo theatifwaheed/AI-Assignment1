{
 "cells": [
  {
   "cell_type": "code",
   "execution_count": 22,
   "id": "3a18bc73",
   "metadata": {},
   "outputs": [],
   "source": [
    "l=[2, 5, 6, 8, 7, 9]"
   ]
  },
  {
   "cell_type": "code",
   "execution_count": 23,
   "id": "04f33631",
   "metadata": {},
   "outputs": [
    {
     "name": "stdout",
     "output_type": "stream",
     "text": [
      "6\n"
     ]
    }
   ],
   "source": [
    "print(len(l))"
   ]
  },
  {
   "cell_type": "code",
   "execution_count": 24,
   "id": "9b8ba243",
   "metadata": {},
   "outputs": [],
   "source": [
    "n=len(l)"
   ]
  },
  {
   "cell_type": "code",
   "execution_count": 30,
   "id": "a32afaa5",
   "metadata": {},
   "outputs": [
    {
     "name": "stdout",
     "output_type": "stream",
     "text": [
      "range(1, 6)\n"
     ]
    }
   ],
   "source": [
    "print(range(1,n))"
   ]
  },
  {
   "cell_type": "code",
   "execution_count": 26,
   "id": "40fd7983",
   "metadata": {},
   "outputs": [],
   "source": [
    "def swapsRequired(list, lengthOfList):\n",
    "    copy_of_list=l.copy()\n",
    "    copy_of_list.sort()\n",
    "    errors=0\n",
    "    h={}\n",
    "    for i in range(lengthOfList):\n",
    "        \n",
    "        if list[i] != copy_of_list[i]:\n",
    "            errors += 1\n",
    "        \n",
    "    return errors"
   ]
  },
  {
   "cell_type": "code",
   "execution_count": 27,
   "id": "fa707d99",
   "metadata": {},
   "outputs": [
    {
     "name": "stdout",
     "output_type": "stream",
     "text": [
      "2\n"
     ]
    }
   ],
   "source": [
    "print(swapsRequired(l, n))"
   ]
  }
 ],
 "metadata": {
  "kernelspec": {
   "display_name": "Python 3",
   "language": "python",
   "name": "python3"
  },
  "language_info": {
   "codemirror_mode": {
    "name": "ipython",
    "version": 3
   },
   "file_extension": ".py",
   "mimetype": "text/x-python",
   "name": "python",
   "nbconvert_exporter": "python",
   "pygments_lexer": "ipython3",
   "version": "3.8.8"
  }
 },
 "nbformat": 4,
 "nbformat_minor": 5
}
