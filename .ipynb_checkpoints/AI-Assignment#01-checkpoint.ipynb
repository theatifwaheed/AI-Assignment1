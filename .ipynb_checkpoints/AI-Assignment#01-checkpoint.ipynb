{
 "cells": [
  {
   "cell_type": "code",
   "execution_count": 52,
   "id": "51ef3fed",
   "metadata": {},
   "outputs": [],
   "source": [
    "#Sort a list using Heuristic as \"Number of unorder consecutive pairs\""
   ]
  },
  {
   "cell_type": "code",
   "execution_count": 53,
   "id": "e088ede0",
   "metadata": {},
   "outputs": [],
   "source": [
    "lst = [1,3,2,5,4,6,8,7,9]"
   ]
  },
  {
   "cell_type": "code",
   "execution_count": 54,
   "id": "455901fe",
   "metadata": {},
   "outputs": [],
   "source": [
    "err = 0\n",
    "l = len(lst)"
   ]
  },
  {
   "cell_type": "code",
   "execution_count": 55,
   "id": "36724426",
   "metadata": {},
   "outputs": [],
   "source": [
    "def ErrorCheck(L,ln):\n",
    "    er = 0\n",
    "    for i in range(1,ln):\n",
    "        j = i - 1\n",
    "        if L[i] < L[j]:\n",
    "            er += 1\n",
    "    return er"
   ]
  },
  {
   "cell_type": "code",
   "execution_count": 56,
   "id": "f6e6b2f6",
   "metadata": {},
   "outputs": [],
   "source": [
    "err = ErrorCheck(lst,l)"
   ]
  },
  {
   "cell_type": "code",
   "execution_count": 57,
   "id": "d4166e24",
   "metadata": {},
   "outputs": [
    {
     "data": {
      "text/plain": [
       "3"
      ]
     },
     "execution_count": 57,
     "metadata": {},
     "output_type": "execute_result"
    }
   ],
   "source": [
    "err"
   ]
  },
  {
   "cell_type": "code",
   "execution_count": 58,
   "id": "0b8af8da",
   "metadata": {},
   "outputs": [],
   "source": [
    "glst = lst.copy()\n",
    "glst.sort()"
   ]
  },
  {
   "cell_type": "code",
   "execution_count": 59,
   "id": "669e0019",
   "metadata": {},
   "outputs": [],
   "source": [
    "def RemError(L,ln):\n",
    "    for i in range (1,ln):\n",
    "        j = i - 1\n",
    "        if L[i] < L[j]:\n",
    "            k = L[i]\n",
    "            L[i] = L[j]\n",
    "            L[j] = k\n",
    "    return L"
   ]
  },
  {
   "cell_type": "code",
   "execution_count": 60,
   "id": "9771f9c5",
   "metadata": {},
   "outputs": [
    {
     "data": {
      "text/plain": [
       "0"
      ]
     },
     "execution_count": 60,
     "metadata": {},
     "output_type": "execute_result"
    }
   ],
   "source": [
    "ErrorCheck(RemError(lst,l),l)"
   ]
  },
  {
   "cell_type": "code",
   "execution_count": 61,
   "id": "1b5342b8",
   "metadata": {},
   "outputs": [
    {
     "data": {
      "text/plain": [
       "[1, 2, 3, 4, 5, 6, 7, 8, 9]"
      ]
     },
     "execution_count": 61,
     "metadata": {},
     "output_type": "execute_result"
    }
   ],
   "source": [
    "RemError(lst,l)"
   ]
  }
 ],
 "metadata": {
  "kernelspec": {
   "display_name": "Python 3",
   "language": "python",
   "name": "python3"
  },
  "language_info": {
   "codemirror_mode": {
    "name": "ipython",
    "version": 3
   },
   "file_extension": ".py",
   "mimetype": "text/x-python",
   "name": "python",
   "nbconvert_exporter": "python",
   "pygments_lexer": "ipython3",
   "version": "3.8.8"
  }
 },
 "nbformat": 4,
 "nbformat_minor": 5
}
