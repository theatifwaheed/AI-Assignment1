{
 "cells": [
  {
   "cell_type": "code",
   "execution_count": 40,
   "id": "79f3beba",
   "metadata": {},
   "outputs": [],
   "source": [
    "import numpy as np\n",
    "import pandas as pd\n",
    "import matplotlib.pyplot as plt"
   ]
  },
  {
   "cell_type": "code",
   "execution_count": 41,
   "id": "51ef3fed",
   "metadata": {},
   "outputs": [],
   "source": [
    "#Sort a list using Heuristic as \"Number of unorder consecutive pairs\""
   ]
  },
  {
   "cell_type": "code",
   "execution_count": 42,
   "id": "e088ede0",
   "metadata": {},
   "outputs": [],
   "source": [
    "lst = [1,3,2,5,4,6,8,7,9]"
   ]
  },
  {
   "cell_type": "code",
   "execution_count": 43,
   "id": "455901fe",
   "metadata": {},
   "outputs": [],
   "source": [
    "err = 0\n",
    "l = len(lst)"
   ]
  },
  {
   "cell_type": "code",
   "execution_count": 44,
   "id": "36724426",
   "metadata": {},
   "outputs": [],
   "source": [
    "def ErrorCheck(L,ln):\n",
    "    er = 0\n",
    "    for i in range(1,ln):\n",
    "        j = i - 1\n",
    "        if L[i] < L[j]:\n",
    "            er += 1\n",
    "    return er"
   ]
  },
  {
   "cell_type": "code",
   "execution_count": 45,
   "id": "f6e6b2f6",
   "metadata": {},
   "outputs": [],
   "source": [
    "err = ErrorCheck(lst,l)"
   ]
  },
  {
   "cell_type": "code",
   "execution_count": 46,
   "id": "0a44e19f",
   "metadata": {},
   "outputs": [
    {
     "data": {
      "text/plain": [
       "3"
      ]
     },
     "execution_count": 46,
     "metadata": {},
     "output_type": "execute_result"
    }
   ],
   "source": [
    "err"
   ]
  },
  {
   "cell_type": "code",
   "execution_count": 47,
   "id": "0ecb7fd3",
   "metadata": {},
   "outputs": [],
   "source": [
    "glst = lst.copy()\n",
    "glst.sort()"
   ]
  },
  {
   "cell_type": "code",
   "execution_count": 48,
   "id": "a78d730f",
   "metadata": {},
   "outputs": [],
   "source": [
    "def RemError(L,ln):\n",
    "    for i in range (1,ln):\n",
    "        j = i - 1\n",
    "        if L[i] < L[j]:\n",
    "            k = L[i]\n",
    "            L[i] = L[j]\n",
    "            L[j] = k\n",
    "    return L"
   ]
  },
  {
   "cell_type": "code",
   "execution_count": 49,
   "id": "1922bfd4",
   "metadata": {},
   "outputs": [
    {
     "data": {
      "text/plain": [
       "0"
      ]
     },
     "execution_count": 49,
     "metadata": {},
     "output_type": "execute_result"
    }
   ],
   "source": [
    "ErrorCheck(RemError(lst,l),l)"
   ]
  },
  {
   "cell_type": "code",
   "execution_count": 51,
   "id": "fdb0c9d2",
   "metadata": {},
   "outputs": [
    {
     "data": {
      "text/plain": [
       "[1, 2, 3, 4, 5, 6, 7, 8, 9]"
      ]
     },
     "execution_count": 51,
     "metadata": {},
     "output_type": "execute_result"
    }
   ],
   "source": [
    "RemError(lst,l)"
   ]
  },
  {
   "cell_type": "code",
   "execution_count": null,
   "id": "5d274d1a",
   "metadata": {},
   "outputs": [],
   "source": []
  }
 ],
 "metadata": {
  "kernelspec": {
   "display_name": "Python 3",
   "language": "python",
   "name": "python3"
  },
  "language_info": {
   "codemirror_mode": {
    "name": "ipython",
    "version": 3
   },
   "file_extension": ".py",
   "mimetype": "text/x-python",
   "name": "python",
   "nbconvert_exporter": "python",
   "pygments_lexer": "ipython3",
   "version": "3.8.8"
  }
 },
 "nbformat": 4,
 "nbformat_minor": 5
}
